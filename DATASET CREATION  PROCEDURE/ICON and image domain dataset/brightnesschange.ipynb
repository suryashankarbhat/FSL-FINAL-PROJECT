{
 "cells": [
  {
   "cell_type": "code",
   "execution_count": 23,
   "id": "1ace1f9e",
   "metadata": {},
   "outputs": [],
   "source": [
    "# referenced from https://pythonexamples.org/python-pillow-adjust-image-brightness/\n",
    "# to get the different illumintion level dataset from  icon and image domain\n",
    "# change the directry to the required folder\n",
    "import PIL\n",
    "import os\n",
    "from PIL import Image\n",
    "from PIL import Image, ImageEnhance"
   ]
  },
  {
   "cell_type": "code",
   "execution_count": 22,
   "id": "77529020",
   "metadata": {},
   "outputs": [],
   "source": [
    "f=\"/Users/suryahankar/Downloads/bed\""
   ]
  },
  {
   "cell_type": "code",
   "execution_count": 24,
   "id": "41e9e541",
   "metadata": {},
   "outputs": [
    {
     "data": {
      "text/plain": [
       "['skechesbed (28).png',\n",
       " 'eee.png',\n",
       " 'skechesbed (12).png',\n",
       " 'skechesbed (32).png',\n",
       " 'skechesbed 21.png',\n",
       " 'skechesbed (24).png',\n",
       " 'skechesbed (2323.png',\n",
       " 'skechesbed (3).png',\n",
       " 'rrf.png',\n",
       " 'skechesbed (2).png',\n",
       " 'skechesbed (25).png',\n",
       " 'skechesbed (33).png',\n",
       " 'skechesbed (13).png',\n",
       " 'dfggh.png',\n",
       " 'skechesbed (29).png',\n",
       " 'gbgg.png',\n",
       " 'skechesbed (34).png',\n",
       " 'skechesbed (22).png',\n",
       " 'skechesbed (18).png',\n",
       " 'rr.png',\n",
       " 'skechesbed 2.png',\n",
       " 'skechesbed (14).png',\n",
       " 'skechesbed (15).png',\n",
       " 'skechesbed (8).png',\n",
       " 'skechesbed (19).png',\n",
       " 'skechesbed (23).png',\n",
       " 'skechesbed (35).png',\n",
       " 'skechesbed (7).png',\n",
       " 'skechesbed (20).png',\n",
       " '34.png',\n",
       " 'ee.png',\n",
       " 'skechesbed (16).png',\n",
       " '23.png',\n",
       " 'skechesbed (17).png',\n",
       " 'skechesbed (21).png',\n",
       " 'dff.png',\n",
       " 'fggg.png',\n",
       " 'skechesbed (1).png',\n",
       " 'skechesbed (26).png',\n",
       " 'skechesbed (30).png',\n",
       " 'skechesbed (31).png',\n",
       " '2.png',\n",
       " 'skechesbed (27).png',\n",
       " '3.png',\n",
       " 'e.png',\n",
       " '1.png']"
      ]
     },
     "execution_count": 24,
     "metadata": {},
     "output_type": "execute_result"
    }
   ],
   "source": [
    "os.listdir(f)"
   ]
  },
  {
   "cell_type": "code",
   "execution_count": 30,
   "id": "f0ad7f5e",
   "metadata": {},
   "outputs": [],
   "source": [
    "for file in os.listdir(f):\n",
    "    f_img = f+\"/\"+file\n",
    "    img = Image.open(f_img)\n",
    "    img=img.convert('RGB')\n",
    "    enhancer = ImageEnhance.Brightness(img)\n",
    "    factor = 0.7#normal  brightness and change the values to 0.3 for low brighness\n",
    "    img = enhancer.enhance(factor)\n",
    "    \n",
    "    \n",
    "    img.save(f_img)\n",
    "\n"
   ]
  },
  {
   "cell_type": "code",
   "execution_count": null,
   "id": "d4d8c7e6",
   "metadata": {},
   "outputs": [],
   "source": []
  }
 ],
 "metadata": {
  "kernelspec": {
   "display_name": "Python 3 (ipykernel)",
   "language": "python",
   "name": "python3"
  },
  "language_info": {
   "codemirror_mode": {
    "name": "ipython",
    "version": 3
   },
   "file_extension": ".py",
   "mimetype": "text/x-python",
   "name": "python",
   "nbconvert_exporter": "python",
   "pygments_lexer": "ipython3",
   "version": "3.9.7"
  }
 },
 "nbformat": 4,
 "nbformat_minor": 5
}
